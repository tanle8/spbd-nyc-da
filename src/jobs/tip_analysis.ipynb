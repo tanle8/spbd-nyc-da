{
 "cells": [
  {
   "cell_type": "markdown",
   "metadata": {},
   "source": [
    "# 2. Tip Analysis:\n",
    "- Assess the percentage of tips by trip.\n",
    "- Investigate geographical variations in tipping and the relationship between tipping amounts and trip distances.\n",
    "- Study variations in tipping by time of day, week, and notable periods (e.g., holidays).\n",
    "- Explore the impact of different payment types on tipping behavior.\n"
   ]
  },
  {
   "cell_type": "code",
   "execution_count": null,
   "metadata": {},
   "outputs": [],
   "source": []
  }
 ],
 "metadata": {
  "language_info": {
   "name": "python"
  }
 },
 "nbformat": 4,
 "nbformat_minor": 2
}
