{
 "cells": [
  {
   "cell_type": "markdown",
   "metadata": {},
   "source": [
    "# NYC Taxi Data Analysis - EDA\n",
    "\n",
    "This is the first notebook in the series of data analysis using Spark on NYC Taxi Dataset"
   ]
  },
  {
   "cell_type": "code",
   "execution_count": 1,
   "metadata": {},
   "outputs": [
    {
     "name": "stderr",
     "output_type": "stream",
     "text": [
      "Setting default log level to \"WARN\".\n",
      "To adjust logging level use sc.setLogLevel(newLevel). For SparkR, use setLogLevel(newLevel).\n",
      "24/05/20 19:01:35 WARN NativeCodeLoader: Unable to load native-hadoop library for your platform... using builtin-java classes where applicable\n",
      "24/05/20 19:01:36 WARN Utils: Service 'SparkUI' could not bind on port 4040. Attempting port 4041.\n"
     ]
    }
   ],
   "source": [
    "from pyspark.sql import SparkSession\n",
    "\n",
    "spark = SparkSession.builder \\\n",
    "    .appName(\"NYC Taxi Data Exploration\") \\\n",
    "    .getOrCreate()"
   ]
  },
  {
   "cell_type": "markdown",
   "metadata": {},
   "source": [
    "## Loading the Data"
   ]
  },
  {
   "cell_type": "code",
   "execution_count": 3,
   "metadata": {},
   "outputs": [
    {
     "name": "stderr",
     "output_type": "stream",
     "text": [
      "                                                                                \r"
     ]
    }
   ],
   "source": [
    "NYC_TAXI_DATA = \"../../data/raw/train.csv\"\n",
    "\n",
    "df = spark.read.csv(NYC_TAXI_DATA, inferSchema=True, header=True)\n"
   ]
  },
  {
   "cell_type": "markdown",
   "metadata": {},
   "source": [
    "## View Basic Information\n",
    "\n",
    "Show the first few rows of the DataFrame to get a feel for the data:"
   ]
  },
  {
   "cell_type": "code",
   "execution_count": 4,
   "metadata": {},
   "outputs": [
    {
     "name": "stdout",
     "output_type": "stream",
     "text": [
      "+---------+---------+-------------------+-------------------+---------------+------------------+------------------+------------------+------------------+------------------+-------------+\n",
      "|       id|vendor_id|    pickup_datetime|   dropoff_datetime|passenger_count|  pickup_longitude|   pickup_latitude| dropoff_longitude|  dropoff_latitude|store_and_fwd_flag|trip_duration|\n",
      "+---------+---------+-------------------+-------------------+---------------+------------------+------------------+------------------+------------------+------------------+-------------+\n",
      "|id2875421|        2|2016-03-14 17:24:55|2016-03-14 17:32:30|              1| -73.9821548461914| 40.76793670654297|-73.96463012695312|40.765602111816406|                 N|          455|\n",
      "|id2377394|        1|2016-06-12 00:43:35|2016-06-12 00:54:38|              1|-73.98041534423828|40.738563537597656|-73.99948120117188| 40.73115158081055|                 N|          663|\n",
      "|id3858529|        2|2016-01-19 11:35:24|2016-01-19 12:10:48|              1| -73.9790267944336|40.763938903808594|-74.00533294677734|40.710086822509766|                 N|         2124|\n",
      "|id3504673|        2|2016-04-06 19:32:31|2016-04-06 19:39:40|              1|-74.01004028320312|   40.719970703125|-74.01226806640625| 40.70671844482422|                 N|          429|\n",
      "|id2181028|        2|2016-03-26 13:30:55|2016-03-26 13:38:10|              1|-73.97305297851562|40.793209075927734| -73.9729232788086| 40.78252029418945|                 N|          435|\n",
      "+---------+---------+-------------------+-------------------+---------------+------------------+------------------+------------------+------------------+------------------+-------------+\n",
      "only showing top 5 rows\n",
      "\n"
     ]
    }
   ],
   "source": [
    "df.show(5)\n"
   ]
  },
  {
   "cell_type": "markdown",
   "metadata": {},
   "source": [
    "Print the schema to understand the data types and columns:"
   ]
  },
  {
   "cell_type": "code",
   "execution_count": 5,
   "metadata": {},
   "outputs": [
    {
     "name": "stdout",
     "output_type": "stream",
     "text": [
      "root\n",
      " |-- id: string (nullable = true)\n",
      " |-- vendor_id: integer (nullable = true)\n",
      " |-- pickup_datetime: timestamp (nullable = true)\n",
      " |-- dropoff_datetime: timestamp (nullable = true)\n",
      " |-- passenger_count: integer (nullable = true)\n",
      " |-- pickup_longitude: double (nullable = true)\n",
      " |-- pickup_latitude: double (nullable = true)\n",
      " |-- dropoff_longitude: double (nullable = true)\n",
      " |-- dropoff_latitude: double (nullable = true)\n",
      " |-- store_and_fwd_flag: string (nullable = true)\n",
      " |-- trip_duration: integer (nullable = true)\n",
      "\n"
     ]
    }
   ],
   "source": [
    "df.printSchema()"
   ]
  },
  {
   "cell_type": "markdown",
   "metadata": {},
   "source": [
    "## Summary Statistics"
   ]
  },
  {
   "cell_type": "code",
   "execution_count": 6,
   "metadata": {},
   "outputs": [
    {
     "name": "stderr",
     "output_type": "stream",
     "text": [
      "24/05/20 19:05:43 WARN SparkStringUtils: Truncated the string representation of a plan since it was too large. This behavior can be adjusted by setting 'spark.sql.debug.maxToStringFields'.\n",
      "[Stage 3:>                                                          (0 + 8) / 8]\r"
     ]
    },
    {
     "name": "stdout",
     "output_type": "stream",
     "text": [
      "+-------+---------+-------------------+------------------+-------------------+--------------------+-------------------+-------------------+------------------+------------------+\n",
      "|summary|       id|          vendor_id|   passenger_count|   pickup_longitude|     pickup_latitude|  dropoff_longitude|   dropoff_latitude|store_and_fwd_flag|     trip_duration|\n",
      "+-------+---------+-------------------+------------------+-------------------+--------------------+-------------------+-------------------+------------------+------------------+\n",
      "|  count|  1458644|            1458644|           1458644|            1458644|             1458644|            1458644|            1458644|           1458644|           1458644|\n",
      "|   mean|     NULL| 1.5349502688798637|1.6645295219395548| -73.97348630489282|  40.750920908391734|  -73.9734159469458|   40.7517995149002|              NULL| 959.4922729603659|\n",
      "| stddev|     NULL|0.49877715390740074| 1.314242167823115|0.07090185842270368|0.032881186257633095|0.07064326809720285|0.03589055560563716|              NULL|5237.4317244975955|\n",
      "|    min|id0000001|                  1|                 0|-121.93334197998047|   34.35969543457031|-121.93330383300781|   32.1811408996582|                 N|                 1|\n",
      "|    max|id4000000|                  2|                 9| -61.33552932739258|   51.88108444213867| -61.33552932739258|  43.92102813720703|                 Y|           3526282|\n",
      "+-------+---------+-------------------+------------------+-------------------+--------------------+-------------------+-------------------+------------------+------------------+\n",
      "\n"
     ]
    },
    {
     "name": "stderr",
     "output_type": "stream",
     "text": [
      "                                                                                \r"
     ]
    }
   ],
   "source": [
    "df.describe().show()"
   ]
  },
  {
   "cell_type": "markdown",
   "metadata": {},
   "source": [
    "## Other EDA steps"
   ]
  },
  {
   "cell_type": "markdown",
   "metadata": {},
   "source": [
    "### Check for Missing Values\n",
    "\n",
    "Count missing or null values in each column:"
   ]
  },
  {
   "cell_type": "code",
   "execution_count": 8,
   "metadata": {},
   "outputs": [
    {
     "name": "stderr",
     "output_type": "stream",
     "text": [
      "[Stage 6:===========================================================(8 + 0) / 8]\r"
     ]
    },
    {
     "name": "stdout",
     "output_type": "stream",
     "text": [
      "+---+---------+---------------+----------------+---------------+----------------+---------------+-----------------+----------------+------------------+-------------+\n",
      "| id|vendor_id|pickup_datetime|dropoff_datetime|passenger_count|pickup_longitude|pickup_latitude|dropoff_longitude|dropoff_latitude|store_and_fwd_flag|trip_duration|\n",
      "+---+---------+---------------+----------------+---------------+----------------+---------------+-----------------+----------------+------------------+-------------+\n",
      "|  0|        0|              0|               0|              0|               0|              0|                0|               0|                 0|            0|\n",
      "+---+---------+---------------+----------------+---------------+----------------+---------------+-----------------+----------------+------------------+-------------+\n",
      "\n"
     ]
    },
    {
     "name": "stderr",
     "output_type": "stream",
     "text": [
      "                                                                                \r"
     ]
    }
   ],
   "source": [
    "from pyspark.sql.functions import col, count, when\n",
    "\n",
    "# Check for missing values in each column\n",
    "missing_values = df.select([count(when(col(c).isNull(), c)).alias(c) for c in df.columns])\n",
    "missing_values.show()"
   ]
  },
  {
   "cell_type": "markdown",
   "metadata": {},
   "source": [
    "### Unique Counts\n",
    "For categorical and string columns like `vendor_id` and `store_and_fwd_flag`, check the number of unique values and see the distribution of each category."
   ]
  },
  {
   "cell_type": "code",
   "execution_count": 9,
   "metadata": {},
   "outputs": [
    {
     "name": "stderr",
     "output_type": "stream",
     "text": [
      "                                                                                \r"
     ]
    },
    {
     "name": "stdout",
     "output_type": "stream",
     "text": [
      "+---------+------+\n",
      "|vendor_id| count|\n",
      "+---------+------+\n",
      "|        2|780302|\n",
      "|        1|678342|\n",
      "+---------+------+\n",
      "\n"
     ]
    },
    {
     "name": "stderr",
     "output_type": "stream",
     "text": [
      "[Stage 12:>                                                         (0 + 8) / 8]\r"
     ]
    },
    {
     "name": "stdout",
     "output_type": "stream",
     "text": [
      "+------------------+-------+\n",
      "|store_and_fwd_flag|  count|\n",
      "+------------------+-------+\n",
      "|                 N|1450599|\n",
      "|                 Y|   8045|\n",
      "+------------------+-------+\n",
      "\n"
     ]
    },
    {
     "name": "stderr",
     "output_type": "stream",
     "text": [
      "                                                                                \r"
     ]
    }
   ],
   "source": [
    "from pyspark.sql.functions import desc\n",
    "\n",
    "# Count unique values in categorical columns\n",
    "df.groupBy('vendor_id').count().orderBy(desc('count')).show()\n",
    "df.groupBy('store_and_fwd_flag').count().orderBy(desc('count')).show()"
   ]
  },
  {
   "cell_type": "markdown",
   "metadata": {},
   "source": [
    "### Date and Time Analysis\n",
    "Since `pickup_datetime` and `dropoff_datetime` are crucial for understanding temporal patterns, we should extract more granular time parts from these timestamps."
   ]
  },
  {
   "cell_type": "code",
   "execution_count": 10,
   "metadata": {},
   "outputs": [
    {
     "name": "stderr",
     "output_type": "stream",
     "text": [
      "                                                                                \r"
     ]
    },
    {
     "name": "stdout",
     "output_type": "stream",
     "text": [
      "+----------------+------+\n",
      "|pickup_dayofweek| count|\n",
      "+----------------+------+\n",
      "|               1|195366|\n",
      "|               2|187418|\n",
      "|               3|202749|\n",
      "|               4|210136|\n",
      "|               5|218574|\n",
      "|               6|223533|\n",
      "|               7|220868|\n",
      "+----------------+------+\n",
      "\n",
      "+-----------+-----+\n",
      "|pickup_hour|count|\n",
      "+-----------+-----+\n",
      "|          0|53248|\n",
      "|          1|38571|\n",
      "|          2|27637|\n",
      "|          3|21230|\n",
      "|          4|15792|\n",
      "|          5|15002|\n",
      "|          6|33248|\n",
      "|          7|55600|\n",
      "|          8|67053|\n",
      "|          9|67663|\n",
      "|         10|65437|\n",
      "|         11|68476|\n",
      "|         12|71873|\n",
      "|         13|71473|\n",
      "|         14|74292|\n",
      "|         15|71811|\n",
      "|         16|64313|\n",
      "|         17|76483|\n",
      "|         18|90600|\n",
      "|         19|90308|\n",
      "+-----------+-----+\n",
      "only showing top 20 rows\n",
      "\n"
     ]
    }
   ],
   "source": [
    "from pyspark.sql.functions import year, month, dayofmonth, hour, minute, dayofweek\n",
    "\n",
    "# Extracting time parts\n",
    "df = df.withColumn(\"pickup_dayofweek\", dayofweek(\"pickup_datetime\")) \\\n",
    "       .withColumn(\"pickup_hour\", hour(\"pickup_datetime\")) \\\n",
    "       .withColumn(\"pickup_month\", month(\"pickup_datetime\")) \\\n",
    "       .withColumn(\"pickup_year\", year(\"pickup_datetime\"))\n",
    "\n",
    "# Analyze trips by day of week or hour\n",
    "df.groupBy(\"pickup_dayofweek\").count().orderBy(\"pickup_dayofweek\").show()\n",
    "df.groupBy(\"pickup_hour\").count().orderBy(\"pickup_hour\").show()\n"
   ]
  },
  {
   "cell_type": "markdown",
   "metadata": {},
   "source": [
    "### Correlation Analysis\n",
    "Check for correlations between numerical variables, particularly between `trip_duration`, `passenger_count`, and geographical coordinates."
   ]
  },
  {
   "cell_type": "code",
   "execution_count": 11,
   "metadata": {},
   "outputs": [
    {
     "name": "stderr",
     "output_type": "stream",
     "text": [
      "                                                                                \r"
     ]
    },
    {
     "data": {
      "text/plain": [
       "0.02256831201328893"
      ]
     },
     "execution_count": 11,
     "metadata": {},
     "output_type": "execute_result"
    }
   ],
   "source": [
    "# Correlations\n",
    "df.stat.corr('trip_duration', 'passenger_count')\n",
    "df.stat.corr('pickup_longitude', 'pickup_latitude')\n"
   ]
  },
  {
   "cell_type": "markdown",
   "metadata": {},
   "source": [
    "### Explore Geographical Data"
   ]
  },
  {
   "cell_type": "code",
   "execution_count": 12,
   "metadata": {},
   "outputs": [
    {
     "name": "stderr",
     "output_type": "stream",
     "text": [
      "[Stage 27:>                                                         (0 + 8) / 8]\r"
     ]
    },
    {
     "name": "stdout",
     "output_type": "stream",
     "text": [
      "+-------+-------------------+--------------------+\n",
      "|summary|   pickup_longitude|     pickup_latitude|\n",
      "+-------+-------------------+--------------------+\n",
      "|  count|            1458644|             1458644|\n",
      "|   mean| -73.97348630489282|  40.750920908391734|\n",
      "| stddev|0.07090185842270368|0.032881186257633095|\n",
      "|    min|-121.93334197998047|   34.35969543457031|\n",
      "|    max| -61.33552932739258|   51.88108444213867|\n",
      "+-------+-------------------+--------------------+\n",
      "\n"
     ]
    },
    {
     "name": "stderr",
     "output_type": "stream",
     "text": [
      "                                                                                \r"
     ]
    }
   ],
   "source": [
    "# Histogram of coordinates to identify clusters or outliers\n",
    "df.select(\"pickup_longitude\", \"pickup_latitude\").describe().show()\n"
   ]
  },
  {
   "cell_type": "markdown",
   "metadata": {},
   "source": [
    "### Investigate Outliers and Anomalies"
   ]
  },
  {
   "cell_type": "code",
   "execution_count": 14,
   "metadata": {},
   "outputs": [
    {
     "name": "stderr",
     "output_type": "stream",
     "text": [
      "                                                                                \r"
     ]
    },
    {
     "data": {
      "image/png": "[encoded data removed]",
      "text/plain": [
       "<Figure size 640x480 with 1 Axes>"
      ]
     },
     "metadata": {},
     "output_type": "display_data"
    }
   ],
   "source": [
    "# Box plots can be plotted after converting to Pandas DataFrame for visualization\n",
    "import seaborn as sns\n",
    "import matplotlib.pyplot as plt\n",
    "\n",
    "sampled_pd_df = df.sample(fraction=0.1).toPandas()\n",
    "sns.boxplot(x=sampled_pd_df['trip_duration'])\n",
    "plt.show()\n"
   ]
  },
  {
   "cell_type": "markdown",
   "metadata": {},
   "source": [
    "## Feature Engineering\n",
    "\n",
    "In this step, we consider creating new features that might be useful for further analysis or predictive modeling."
   ]
  },
  {
   "cell_type": "markdown",
   "metadata": {},
   "source": [
    "### Distance Calculation\n",
    "\n",
    "Calculating the trip distance in kilometers based on geographical coordinates which gonna be useful for multiple analysis."
   ]
  },
  {
   "cell_type": "code",
   "execution_count": 17,
   "metadata": {},
   "outputs": [],
   "source": [
    "from pyspark.sql.functions import pandas_udf\n",
    "from pyspark.sql.types import DoubleType\n",
    "import pandas as pd\n",
    "import numpy as np\n",
    "\n",
    "@pandas_udf(DoubleType())\n",
    "def calculate_distance_pd(lat1, lon1, lat2, lon2):\n",
    "    # Convert degrees to radians\n",
    "    lat1, lon1, lat2, lon2 = map(np.radians, [lat1, lon1, lat2, lon2])\n",
    "    dLat = lat2 - lat1\n",
    "    dLon = lon2 - lon1\n",
    "\n",
    "    a = np.sin(dLat/2)**2 + np.cos(lat1) * np.cos(lat2) * np.sin(dLon/2)**2\n",
    "    c = 2 * np.arctan2(np.sqrt(a), np.sqrt(1 - a))\n",
    "    d = 6371 * c  # Earth radius in kilometers\n",
    "    return d\n",
    "\n",
    "# Apply the Pandas UDF\n",
    "df = df.withColumn(\"trip_distance_km\", calculate_distance_pd(\"pickup_latitude\", \"pickup_longitude\", \"dropoff_latitude\", \"dropoff_longitude\"))\n"
   ]
  },
  {
   "cell_type": "code",
   "execution_count": 18,
   "metadata": {},
   "outputs": [
    {
     "name": "stderr",
     "output_type": "stream",
     "text": [
      "[Stage 32:>                                                         (0 + 1) / 1]\r"
     ]
    },
    {
     "name": "stdout",
     "output_type": "stream",
     "text": [
      "+------------------+\n",
      "|  trip_distance_km|\n",
      "+------------------+\n",
      "|1.4985207796469109|\n",
      "|1.8055071687958897|\n",
      "| 6.385098495252495|\n",
      "|1.4854984227709385|\n",
      "|1.1885884593338851|\n",
      "| 1.098942459305554|\n",
      "|1.3262785770590748|\n",
      "| 5.714980630789906|\n",
      "|1.3103532828841316|\n",
      "| 5.121161562140774|\n",
      "| 3.806139394875776|\n",
      "|3.7730959384723497|\n",
      "| 1.859483020230105|\n",
      "|0.9916848505443578|\n",
      "| 6.382835756275532|\n",
      "|0.6565780261385659|\n",
      "| 3.428085961968358|\n",
      "| 2.538671818029313|\n",
      "| 4.605201075572819|\n",
      "|1.3032712172360177|\n",
      "+------------------+\n",
      "only showing top 20 rows\n",
      "\n"
     ]
    },
    {
     "name": "stderr",
     "output_type": "stream",
     "text": [
      "                                                                                \r"
     ]
    }
   ],
   "source": [
    "# Show the result\n",
    "df.select(\"trip_distance_km\").show()"
   ]
  },
  {
   "cell_type": "markdown",
   "metadata": {},
   "source": [
    "## Persisting transformations and features"
   ]
  },
  {
   "cell_type": "code",
   "execution_count": 30,
   "metadata": {},
   "outputs": [
    {
     "name": "stderr",
     "output_type": "stream",
     "text": [
      "24/05/20 21:22:52 WARN MemoryManager: Total allocation exceeds 95.00% (1,020,054,720 bytes) of heap memory\n",
      "Scaling row group sizes to 95.00% for 8 writers\n",
      "                                                                                \r"
     ]
    }
   ],
   "source": [
    "TRAIN_PROCESSED = \"../../data/processed/train_processed.parquet\"\n",
    "\n",
    "df.write.format(\"parquet\").mode(\"overwrite\").save(TRAIN_PROCESSED)"
   ]
  },
  {
   "cell_type": "markdown",
   "metadata": {},
   "source": [
    "### NOTE: Read the data back"
   ]
  },
  {
   "cell_type": "code",
   "execution_count": 31,
   "metadata": {},
   "outputs": [],
   "source": [
    "df_save = spark.read.parquet(TRAIN_PROCESSED)"
   ]
  },
  {
   "cell_type": "code",
   "execution_count": 32,
   "metadata": {},
   "outputs": [
    {
     "name": "stdout",
     "output_type": "stream",
     "text": [
      "+---------+---------+-------------------+-------------------+---------------+------------------+------------------+------------------+------------------+------------------+-------------+----------------+-----------+------------+-----------+------------------+\n",
      "|       id|vendor_id|    pickup_datetime|   dropoff_datetime|passenger_count|  pickup_longitude|   pickup_latitude| dropoff_longitude|  dropoff_latitude|store_and_fwd_flag|trip_duration|pickup_dayofweek|pickup_hour|pickup_month|pickup_year|  trip_distance_km|\n",
      "+---------+---------+-------------------+-------------------+---------------+------------------+------------------+------------------+------------------+------------------+-------------+----------------+-----------+------------+-----------+------------------+\n",
      "|id1090265|        1|2016-02-09 21:30:46|2016-02-09 21:34:40|              1| -74.0031967163086|40.727230072021484|-73.99812316894531|40.735618591308594|                 N|          234|               3|         21|           2|       2016|1.0260606245078563|\n",
      "|id0429543|        2|2016-05-26 18:12:10|2016-05-26 18:22:10|              1|-73.97261047363281|40.747501373291016| -73.9623031616211|40.759429931640625|                 N|          600|               5|         18|           5|       2016|1.5852831606738558|\n",
      "|id0588876|        1|2016-03-12 23:59:16|2016-03-13 00:24:17|              1|-74.00686645507812| 40.70600128173828|-73.91899108886719| 40.74114227294922|                 N|         1501|               7|         23|           3|       2016|  8.37302153969547|\n",
      "|id1046728|        1|2016-04-16 03:18:55|2016-04-16 03:37:39|              3|-74.00878143310547|40.716190338134766|-73.96159362792969|40.679805755615234|                 N|         1124|               7|          3|           4|       2016|5.6739312112318805|\n",
      "|id2457924|        1|2016-03-02 22:53:19|2016-03-02 22:57:02|              1|-73.98272705078125| 40.77210235595703|-73.98554992675781|  40.7634162902832|                 N|          223|               4|         22|           3|       2016|0.9946728188371948|\n",
      "|id1997531|        2|2016-04-03 18:43:29|2016-04-03 19:22:47|              1|-73.99408721923828|  40.7464599609375|-73.90467071533203|40.772911071777344|                 N|         2358|               1|         18|           4|       2016| 8.085079812610182|\n",
      "|id1160205|        1|2016-01-16 01:33:09|2016-01-16 01:45:47|              1|-73.99530029296875|40.692623138427734|-73.98977661132812| 40.71548843383789|                 N|          758|               7|          1|           1|       2016| 2.584789076796904|\n",
      "|id3824700|        2|2016-04-13 22:35:04|2016-04-13 22:42:43|              1| -73.9868392944336| 40.76108169555664| -73.9743423461914|  40.7884407043457|                 N|          459|               4|         22|           4|       2016|3.2190449813260473|\n",
      "|id2614722|        2|2016-05-11 18:53:28|2016-05-11 18:58:15|              1|-74.00016021728516| 40.73257064819336|-73.99175262451172| 40.72972106933594|                 N|          287|               4|         18|           5|       2016|0.7760661850531002|\n",
      "|id3385448|        2|2016-06-02 22:10:08|2016-06-02 22:23:42|              1|-73.87088012695312| 40.77378845214844|-73.93888854980469| 40.75252151489258|                 N|          814|               5|         22|           6|       2016| 6.196685758875444|\n",
      "|id2745967|        1|2016-04-29 21:05:34|2016-04-29 21:09:10|              1|-73.96505737304688| 40.79191589355469|-73.95259857177734|    40.78955078125|                 N|          216|               6|         21|           4|       2016|1.0813218398812112|\n",
      "|id1934153|        1|2016-02-06 07:21:54|2016-02-06 07:32:14|              1|-73.95620727539062| 40.76744079589844|-73.97388458251953| 40.79148864746094|                 N|          620|               7|          7|           2|       2016|3.0603423113271853|\n",
      "|id1121722|        2|2016-06-25 17:02:16|2016-06-25 17:18:45|              2|-73.99174499511719|40.726051330566406|-73.98914337158203| 40.71849060058594|                 N|          989|               7|         17|           6|       2016| 0.868832499278626|\n",
      "|id0033330|        2|2016-05-09 22:56:01|2016-05-09 23:02:56|              1| -73.9893798828125| 40.72087860107422|-73.98973846435547|40.734642028808594|                 N|          415|               2|         22|           5|       2016|1.5307215952915887|\n",
      "|id3498200|        2|2016-03-29 09:40:56|2016-03-29 10:01:57|              2|-73.98062896728516|40.733856201171875|-73.99364471435547| 40.75188064575195|                 N|         1261|               3|          9|           3|       2016|2.2845794263646324|\n",
      "|id0837192|        2|2016-02-15 13:06:43|2016-02-15 13:12:36|              1|-73.86822509765625| 40.76865768432617|-73.85664367675781| 40.75692367553711|                 N|          353|               2|         13|           2|       2016| 1.629052309802407|\n",
      "|id3464756|        2|2016-04-22 18:13:22|2016-04-22 18:18:19|              1|-73.99539184570312|40.733741760253906|-73.98396301269531|40.737640380859375|                 N|          297|               6|         18|           4|       2016| 1.056023531497353|\n",
      "|id0466397|        1|2016-01-02 17:08:45|2016-01-02 17:18:32|              1|-74.00025177001953|  40.7182502746582|-73.99207305908203|  40.7254753112793|                 N|          587|               7|         17|           1|       2016|1.0585317792250355|\n",
      "|id2359163|        1|2016-05-21 20:00:48|2016-05-21 20:18:38|              1| -73.9642333984375|40.764732360839844|-73.98882293701172| 40.74449920654297|                 N|         1070|               7|         20|           5|       2016| 3.058044832674277|\n",
      "|id1602560|        2|2016-03-27 12:15:55|2016-03-27 12:33:22|              1|-74.01199340820312| 40.70388412475586|-73.98382568359375| 40.75777053833008|                 N|         1047|               1|         12|           3|       2016|6.4448524848674404|\n",
      "+---------+---------+-------------------+-------------------+---------------+------------------+------------------+------------------+------------------+------------------+-------------+----------------+-----------+------------+-----------+------------------+\n",
      "only showing top 20 rows\n",
      "\n"
     ]
    }
   ],
   "source": [
    "df_save.show()"
   ]
  },
  {
   "cell_type": "code",
   "execution_count": 34,
   "metadata": {},
   "outputs": [],
   "source": [
    "\n",
    "# Shut down the current running session after using\n",
    "spark.stop()"
   ]
  },
  {
   "cell_type": "code",
   "execution_count": null,
   "metadata": {},
   "outputs": [],
   "source": []
  }
 ],
 "metadata": {
  "kernelspec": {
   "display_name": "data_analysis_spark",
   "language": "python",
   "name": "python3"
  },
  "language_info": {
   "codemirror_mode": {
    "name": "ipython",
    "version": 3
   },
   "file_extension": ".py",
   "mimetype": "text/x-python",
   "name": "python",
   "nbconvert_exporter": "python",
   "pygments_lexer": "ipython3",
   "version": "3.12.3"
  }
 },
 "nbformat": 4,
 "nbformat_minor": 2
}
