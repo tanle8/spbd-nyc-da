{
 "cells": [
  {
   "cell_type": "markdown",
   "metadata": {},
   "source": [
    "# Traffic Analysis\n",
    "\n",
    "- Develop metrics for average trip speeds to analyze traffic conditions.\n",
    "- Compare speeds for trips covering similar distances and categorize these by time variables."
   ]
  },
  {
   "cell_type": "markdown",
   "metadata": {},
   "source": [
    "## Part 1: Develope the job locally"
   ]
  },
  {
   "cell_type": "markdown",
   "metadata": {},
   "source": [
    "### Step 1. Setup the environment"
   ]
  },
  {
   "cell_type": "code",
   "execution_count": 1,
   "metadata": {},
   "outputs": [
    {
     "name": "stderr",
     "output_type": "stream",
     "text": [
      "Setting default log level to \"WARN\".\n",
      "To adjust logging level use sc.setLogLevel(newLevel). For SparkR, use setLogLevel(newLevel).\n",
      "24/05/22 18:40:44 WARN NativeCodeLoader: Unable to load native-hadoop library for your platform... using builtin-java classes where applicable\n"
     ]
    }
   ],
   "source": [
    "from pyspark.sql import SparkSession\n",
    "\n",
    "# Create or retrieve a Spark session\n",
    "spark = SparkSession.builder.appName(\"Traffic Analysis\").getOrCreate()\n"
   ]
  },
  {
   "cell_type": "markdown",
   "metadata": {},
   "source": [
    "### Step 2. Load the processed data"
   ]
  },
  {
   "cell_type": "code",
   "execution_count": 2,
   "metadata": {},
   "outputs": [
    {
     "name": "stderr",
     "output_type": "stream",
     "text": [
      "                                                                                \r"
     ]
    }
   ],
   "source": [
    "TRAIN_PROCESSED = \"../../data/processed/train_processed.parquet\"\n",
    "\n",
    "df = spark.read.parquet(TRAIN_PROCESSED)"
   ]
  },
  {
   "cell_type": "code",
   "execution_count": 5,
   "metadata": {},
   "outputs": [
    {
     "name": "stdout",
     "output_type": "stream",
     "text": [
      "root\n",
      " |-- id: string (nullable = true)\n",
      " |-- vendor_id: integer (nullable = true)\n",
      " |-- pickup_datetime: timestamp (nullable = true)\n",
      " |-- dropoff_datetime: timestamp (nullable = true)\n",
      " |-- passenger_count: integer (nullable = true)\n",
      " |-- pickup_longitude: double (nullable = true)\n",
      " |-- pickup_latitude: double (nullable = true)\n",
      " |-- dropoff_longitude: double (nullable = true)\n",
      " |-- dropoff_latitude: double (nullable = true)\n",
      " |-- store_and_fwd_flag: string (nullable = true)\n",
      " |-- trip_duration: integer (nullable = true)\n",
      " |-- pickup_dayofweek: integer (nullable = true)\n",
      " |-- pickup_hour: integer (nullable = true)\n",
      " |-- pickup_month: integer (nullable = true)\n",
      " |-- pickup_year: integer (nullable = true)\n",
      " |-- trip_distance_km: double (nullable = true)\n",
      "\n"
     ]
    }
   ],
   "source": [
    "df.printSchema()"
   ]
  },
  {
   "cell_type": "markdown",
   "metadata": {},
   "source": [
    "### Step 3. Data preparation\n",
    "\n",
    "We calculate the trip speed as distance (in km) divided by duration (in hours)"
   ]
  },
  {
   "cell_type": "code",
   "execution_count": 6,
   "metadata": {},
   "outputs": [],
   "source": [
    "from pyspark.sql.functions import col\n",
    "\n",
    "# Ensure that trip_duration is in hours if it's not already. If trip_duration is in seconds, convert it.\n",
    "df = df.withColumn(\"duration_hours\", col(\"trip_duration\") / 3600)\n",
    "\n",
    "# Calculate speed in km/h\n",
    "df = df.withColumn(\"trip_speed_km_per_hr\", col(\"trip_distance_km\") / col(\"duration_hours\"))\n"
   ]
  },
  {
   "cell_type": "code",
   "execution_count": 7,
   "metadata": {},
   "outputs": [
    {
     "name": "stdout",
     "output_type": "stream",
     "text": [
      "root\n",
      " |-- id: string (nullable = true)\n",
      " |-- vendor_id: integer (nullable = true)\n",
      " |-- pickup_datetime: timestamp (nullable = true)\n",
      " |-- dropoff_datetime: timestamp (nullable = true)\n",
      " |-- passenger_count: integer (nullable = true)\n",
      " |-- pickup_longitude: double (nullable = true)\n",
      " |-- pickup_latitude: double (nullable = true)\n",
      " |-- dropoff_longitude: double (nullable = true)\n",
      " |-- dropoff_latitude: double (nullable = true)\n",
      " |-- store_and_fwd_flag: string (nullable = true)\n",
      " |-- trip_duration: integer (nullable = true)\n",
      " |-- pickup_dayofweek: integer (nullable = true)\n",
      " |-- pickup_hour: integer (nullable = true)\n",
      " |-- pickup_month: integer (nullable = true)\n",
      " |-- pickup_year: integer (nullable = true)\n",
      " |-- trip_distance_km: double (nullable = true)\n",
      " |-- duration_hours: double (nullable = true)\n",
      " |-- trip_speed_km_per_hr: double (nullable = true)\n",
      "\n"
     ]
    }
   ],
   "source": [
    "df.printSchema()"
   ]
  },
  {
   "cell_type": "markdown",
   "metadata": {},
   "source": [
    "### Step 4: Develop Metrics for Average Trip Speeds\n",
    "\n",
    "Calculate average speeds and standard deviations grouped by various time slices:"
   ]
  },
  {
   "cell_type": "code",
   "execution_count": 8,
   "metadata": {},
   "outputs": [
    {
     "name": "stderr",
     "output_type": "stream",
     "text": [
      "[Stage 2:>                                                          (0 + 8) / 8]\r"
     ]
    },
    {
     "name": "stdout",
     "output_type": "stream",
     "text": [
      "+----+-----------+-----+------------------+------------------+\n",
      "|hour|day_of_week|month|         avg_speed|      speed_stddev|\n",
      "+----+-----------+-----+------------------+------------------+\n",
      "|   0|          1|    1| 16.14966189330342| 8.254841100551094|\n",
      "|   0|          1|    2|15.457664462532627| 7.502795372055547|\n",
      "|   0|          1|    3|15.648980965899712| 7.518083293184715|\n",
      "|   0|          1|    4|15.421758744612129| 7.542561556297256|\n",
      "|   0|          1|    5|15.664749397577744| 7.793421793672584|\n",
      "|   0|          1|    6| 15.32061307059771| 7.521405235099395|\n",
      "|   1|          1|    1| 17.11957528337382| 8.510952718755314|\n",
      "|   1|          1|    2|16.419019945109675| 7.718718821992325|\n",
      "|   1|          1|    3|16.450794464404417|13.088370414725974|\n",
      "|   1|          1|    4| 16.49108503313661| 7.613377731991213|\n",
      "|   1|          1|    5|16.626823074224045| 7.874163199720947|\n",
      "|   1|          1|    6|16.545623249272055| 7.904440207112059|\n",
      "|   2|          1|    1|17.700932478219944| 8.228461935983054|\n",
      "|   2|          1|    2| 17.44244236788706|  7.98557035837806|\n",
      "|   2|          1|    3| 17.74735251369682| 7.715161659271816|\n",
      "|   2|          1|    4|17.091694445268256| 7.681019899876753|\n",
      "|   2|          1|    5| 17.94745846201289| 8.268615481280566|\n",
      "|   2|          1|    6|18.302163947298233|  8.19646914992319|\n",
      "|   3|          1|    1|19.898900770871187|28.918965926489452|\n",
      "|   3|          1|    2|18.899700359354842|  8.99629768286523|\n",
      "+----+-----------+-----+------------------+------------------+\n",
      "only showing top 20 rows\n",
      "\n"
     ]
    },
    {
     "name": "stderr",
     "output_type": "stream",
     "text": [
      "                                                                                \r"
     ]
    }
   ],
   "source": [
    "from pyspark.sql.functions import hour, dayofweek, month, avg, stddev\n",
    "\n",
    "# Extract time components\n",
    "df = df.withColumn(\"hour\", hour(\"pickup_datetime\"))\n",
    "df = df.withColumn(\"day_of_week\", dayofweek(\"pickup_datetime\"))\n",
    "df = df.withColumn(\"month\", month(\"pickup_datetime\"))\n",
    "\n",
    "# Group by time components and calculate average speed and standard deviation\n",
    "speed_stats = df.groupBy(\"hour\", \"day_of_week\", \"month\").agg(\n",
    "    avg(\"trip_speed_km_per_hr\").alias(\"avg_speed\"),\n",
    "    stddev(\"trip_speed_km_per_hr\").alias(\"speed_stddev\")\n",
    ").orderBy(\"day_of_week\", \"hour\", \"month\")\n",
    "\n",
    "speed_stats.show()\n"
   ]
  },
  {
   "cell_type": "markdown",
   "metadata": {},
   "source": [
    "### Step 5: Analyze Traffic Based on Trip Distances"
   ]
  },
  {
   "cell_type": "code",
   "execution_count": 9,
   "metadata": {},
   "outputs": [
    {
     "name": "stderr",
     "output_type": "stream",
     "text": [
      "[Stage 5:>                                                          (0 + 8) / 8]\r"
     ]
    },
    {
     "name": "stdout",
     "output_type": "stream",
     "text": [
      "+-----------------+------------------+\n",
      "|distance_category| avg_speed_by_dist|\n",
      "+-----------------+------------------+\n",
      "|      Long (>5km)| 22.46737952979779|\n",
      "|     Short (<2km)|11.450601056430306|\n",
      "|   Medium (2-5km)|14.342252633488304|\n",
      "+-----------------+------------------+\n",
      "\n"
     ]
    },
    {
     "name": "stderr",
     "output_type": "stream",
     "text": [
      "                                                                                \r"
     ]
    }
   ],
   "source": [
    "from pyspark.sql.functions import when\n",
    "\n",
    "# Define distance categories\n",
    "df = df.withColumn(\"distance_category\",\n",
    "                   when(col(\"trip_distance_km\") <= 2, \"Short (<2km)\")\n",
    "                   .when((col(\"trip_distance_km\") > 2) & (col(\"trip_distance_km\") <= 5), \"Medium (2-5km)\")\n",
    "                   .otherwise(\"Long (>5km)\"))\n",
    "\n",
    "# Calculate average speed for each distance category\n",
    "distance_speed_stats = df.groupBy(\"distance_category\").agg(\n",
    "    avg(\"trip_speed_km_per_hr\").alias(\"avg_speed_by_dist\")\n",
    ")\n",
    "\n",
    "distance_speed_stats.show()\n"
   ]
  },
  {
   "cell_type": "markdown",
   "metadata": {},
   "source": [
    "### Step 6: Visualization\n",
    "To better understand the patterns, we visualize the results "
   ]
  },
  {
   "cell_type": "code",
   "execution_count": 10,
   "metadata": {},
   "outputs": [
    {
     "name": "stderr",
     "output_type": "stream",
     "text": [
      "                                                                                \r"
     ]
    },
    {
     "data": {
      "image/png": "[encoded data removed]",
      "text/plain": [
       "<Figure size 1400x700 with 1 Axes>"
      ]
     },
     "metadata": {},
     "output_type": "display_data"
    }
   ],
   "source": [
    "import pandas as pd\n",
    "import matplotlib.pyplot as plt\n",
    "import seaborn as sns\n",
    "\n",
    "# Convert to Pandas DataFrame for visualization\n",
    "pd_speed_stats = speed_stats.toPandas()\n",
    "\n",
    "# Plot\n",
    "plt.figure(figsize=(14, 7))\n",
    "sns.barplot(x=\"hour\", y=\"avg_speed\", hue=\"day_of_week\", data=pd_speed_stats)\n",
    "plt.title(\"Average Trip Speed by Hour and Day of Week\")\n",
    "plt.xlabel(\"Hour of Day\")\n",
    "plt.ylabel(\"Average Speed (km/hr)\")\n",
    "plt.show()"
   ]
  },
  {
   "cell_type": "markdown",
   "metadata": {},
   "source": [
    "### Step 7. Clean up"
   ]
  },
  {
   "cell_type": "code",
   "execution_count": 11,
   "metadata": {},
   "outputs": [],
   "source": [
    "spark.stop()"
   ]
  },
  {
   "cell_type": "markdown",
   "metadata": {},
   "source": [
    "### Step 8. Convert to .py script"
   ]
  },
  {
   "cell_type": "code",
   "execution_count": 12,
   "metadata": {},
   "outputs": [
    {
     "name": "stdout",
     "output_type": "stream",
     "text": [
      "[NbConvertApp] Converting notebook ./traffic_analysis.ipynb to script\n",
      "[NbConvertApp] Writing 3056 bytes to traffic_analysis.py\n"
     ]
    }
   ],
   "source": [
    "!jupyter nbconvert --to script ./traffic_analysis.ipynb\n"
   ]
  },
  {
   "cell_type": "markdown",
   "metadata": {},
   "source": [
    "## Part 2: Running on GCP Cloud Dataproc\n",
    "\n",
    "Before running the cell below, make sure to test the script with the local environment first then editing the folder's path corresponding to the folder structure on Google Cloud Bucket."
   ]
  },
  {
   "cell_type": "code",
   "execution_count": 24,
   "metadata": {},
   "outputs": [
    {
     "name": "stdout",
     "output_type": "stream",
     "text": [
      "Copying file://./traffic_analysis.py [Content-Type=text/x-python]...\n",
      "/ [1 files][  2.8 KiB/  2.8 KiB]                                                \n",
      "Operation completed over 1 objects/2.8 KiB.                                      \n"
     ]
    }
   ],
   "source": [
    "# Set bucket name\n",
    "bucket_name = \"spbd-nyc-taxi-bucket\"\n",
    "\n",
    "\n",
    "# Upload the Python script\n",
    "!gsutil cp ./traffic_analysis.py gs://{bucket_name}/scripts/\n",
    "\n",
    "# Upload processed data\n",
    "# !gsutil -m cp -r ../../data/processed/train_processed.parquet gs://{bucket_name}/data/\n"
   ]
  },
  {
   "cell_type": "markdown",
   "metadata": {},
   "source": [
    "### Create a new cluster if not existed"
   ]
  },
  {
   "cell_type": "code",
   "execution_count": 31,
   "metadata": {},
   "outputs": [
    {
     "name": "stdout",
     "output_type": "stream",
     "text": [
      "Waiting on operation [projects/epita-spbd-nyc-da/regions/europe-west9/operations/cdff4b7d-7c48-3ad9-82b5-b70e7b733c42].\n",
      "Waiting for cluster creation operation...                                      \n",
      "\u001b[1;33mWARNING:\u001b[0m Consider using Auto Zone rather than selecting a zone manually. See https://cloud.google.com/dataproc/docs/concepts/configuring-clusters/auto-zone\n",
      "\u001b[1;33mWARNING:\u001b[0m Failed to validate permissions required for default service account: '842263258747-compute@developer.gserviceaccount.com'. Cluster creation could still be successful if required permissions have been granted to the respective service accounts as mentioned in the document https://cloud.google.com/dataproc/docs/concepts/configuring-clusters/service-accounts#dataproc_service_accounts_2. This could be due to Cloud Resource Manager API hasn't been enabled in your project '842263258747' before or it is disabled. Enable it by visiting 'https://console.developers.google.com/apis/api/cloudresourcemanager.googleapis.com/overview?project=842263258747'.\n",
      "\u001b[1;33mWARNING:\u001b[0m The firewall rules for specified network or subnetwork would allow ingress traffic from 0.0.0.0/0, which could be a security risk.\n",
      "\u001b[1;33mWARNING:\u001b[0m The specified custom staging bucket 'dataproc-staging-europe-west9-842263258747-telg9nke' is not using uniform bucket level access IAM configuration. It is recommended to update bucket to enable the same. See https://cloud.google.com/storage/docs/uniform-bucket-level-access.\n",
      "Waiting for cluster creation operation...done.                                 \n",
      "Created [https://dataproc.googleapis.com/v1/projects/epita-spbd-nyc-da/regions/europe-west9/clusters/spbd-nyc-taxi-cluster] Cluster placed in zone [europe-west9-a].\n"
     ]
    }
   ],
   "source": [
    "cluster_name = \"spbd-nyc-taxi-cluster\"\n",
    "region = \"europe-west9\"\n",
    "machine_type=\"n2-standard-2\"\n",
    "\n",
    "!gcloud dataproc clusters create {cluster_name} \\\n",
    "    --region={region} \\\n",
    "    --zone={region}-a \\\n",
    "    --master-machine-type={machine_type} \\\n",
    "    --worker-machine-type={machine_type} \\\n",
    "    --num-workers=2 \\\n",
    "    --image-version=2.0-debian10 \\\n",
    "    --scopes=default\n"
   ]
  },
  {
   "cell_type": "markdown",
   "metadata": {},
   "source": [
    "### Now, submit our Spark Job"
   ]
  },
  {
   "cell_type": "code",
   "execution_count": 32,
   "metadata": {},
   "outputs": [
    {
     "name": "stdout",
     "output_type": "stream",
     "text": [
      "Job [8395f1badd5e4f4dbae5cad95da9a51e] submitted.\n",
      "Waiting for job output...\n",
      "24/05/22 20:37:25 INFO org.apache.spark.SparkEnv: Registering MapOutputTracker\n",
      "24/05/22 20:37:25 INFO org.apache.spark.SparkEnv: Registering BlockManagerMaster\n",
      "24/05/22 20:37:25 INFO org.apache.spark.SparkEnv: Registering BlockManagerMasterHeartbeat\n",
      "24/05/22 20:37:25 INFO org.apache.spark.SparkEnv: Registering OutputCommitCoordinator\n",
      "24/05/22 20:37:26 INFO org.sparkproject.jetty.util.log: Logging initialized @9867ms to org.sparkproject.jetty.util.log.Slf4jLog\n",
      "24/05/22 20:37:26 INFO org.sparkproject.jetty.server.Server: jetty-9.4.40.v20210413; built: 2021-04-13T20:42:42.668Z; git: b881a572662e1943a14ae12e7e1207989f218b74; jvm 1.8.0_412-b08\n",
      "24/05/22 20:37:26 INFO org.sparkproject.jetty.server.Server: Started @10005ms\n",
      "24/05/22 20:37:26 INFO org.sparkproject.jetty.server.AbstractConnector: Started ServerConnector@764fe8e9{HTTP/1.1, (http/1.1)}{0.0.0.0:43549}\n",
      "24/05/22 20:37:27 INFO org.apache.hadoop.yarn.client.RMProxy: Connecting to ResourceManager at spbd-nyc-taxi-cluster-m/10.200.0.5:8032\n",
      "24/05/22 20:37:27 INFO org.apache.hadoop.yarn.client.AHSProxy: Connecting to Application History server at spbd-nyc-taxi-cluster-m/10.200.0.5:10200\n",
      "24/05/22 20:37:29 INFO org.apache.hadoop.conf.Configuration: resource-types.xml not found\n",
      "24/05/22 20:37:29 INFO org.apache.hadoop.yarn.util.resource.ResourceUtils: Unable to find 'resource-types.xml'.\n",
      "24/05/22 20:37:30 INFO org.apache.hadoop.yarn.client.api.impl.YarnClientImpl: Submitted application application_1716409878004_0001\n",
      "24/05/22 20:37:31 INFO org.apache.hadoop.yarn.client.RMProxy: Connecting to ResourceManager at spbd-nyc-taxi-cluster-m/10.200.0.5:8030\n",
      "24/05/22 20:37:34 INFO com.google.cloud.hadoop.fs.gcs.GhfsStorageStatistics: Detected potential high latency for operation op_get_file_status. latencyMs=452; previousMaxLatencyMs=0; operationCount=1; context=gs://dataproc-temp-europe-west9-842263258747-ucxdsplb/adf399ba-2000-4c45-9ecd-d31c654ad9a4/spark-job-history\n",
      "24/05/22 20:37:34 INFO com.google.cloud.hadoop.repackaged.gcs.com.google.cloud.hadoop.gcsio.GoogleCloudStorageImpl: Ignoring exception of type GoogleJsonResponseException; verified object already exists with desired state.\n",
      "24/05/22 20:37:34 INFO com.google.cloud.hadoop.fs.gcs.GhfsStorageStatistics: Detected potential high latency for operation op_mkdirs. latencyMs=394; previousMaxLatencyMs=0; operationCount=1; context=gs://dataproc-temp-europe-west9-842263258747-ucxdsplb/adf399ba-2000-4c45-9ecd-d31c654ad9a4/spark-job-history\n",
      "24/05/22 20:37:35 INFO com.google.cloud.hadoop.fs.gcs.GhfsStorageStatistics: Detected potential high latency for operation op_create. latencyMs=624; previousMaxLatencyMs=0; operationCount=1; context=gs://dataproc-temp-europe-west9-842263258747-ucxdsplb/adf399ba-2000-4c45-9ecd-d31c654ad9a4/spark-job-history/application_1716409878004_0001.inprogress\n",
      "+----+-----------+-----+------------------+------------------+\n",
      "|hour|day_of_week|month|         avg_speed|      speed_stddev|\n",
      "+----+-----------+-----+------------------+------------------+\n",
      "|  18|          5|    5|13.571833539170113|  6.41799950193421|\n",
      "|  13|          5|    2| 11.35542558679731|5.8105581643259505|\n",
      "|  22|          7|    5|15.583511607743906| 7.621279922293212|\n",
      "|  13|          2|    2|13.757257458618767|6.8965034105409755|\n",
      "|  21|          5|    6|15.855362695813517| 7.281136234075661|\n",
      "|   6|          7|    2|22.420710206271167| 10.31928001930158|\n",
      "|   5|          4|    2|  19.3757449642645| 7.565082804995779|\n",
      "|  22|          5|    2|17.095418039193124| 8.211757271656987|\n",
      "|  16|          5|    5|12.211632466392382| 40.57811499453668|\n",
      "|  17|          4|    4|13.412120281477426| 6.664441163059247|\n",
      "|   1|          5|    3|20.981044896592653| 9.593569526573821|\n",
      "|   3|          2|    3| 23.79787365626406|  9.69334264441785|\n",
      "|  13|          5|    4|10.387543755000502| 5.132385404100386|\n",
      "|  19|          2|    2| 17.31174091439981|  8.01435765989433|\n",
      "|  20|          3|    5|16.587778420601584| 7.634550456703047|\n",
      "|   3|          1|    4|  24.4560300401709|11.512157349543479|\n",
      "|   3|          3|    1|23.989499537921912|10.764574320479607|\n",
      "|   0|          1|    1| 17.11957528337381| 8.510952718755313|\n",
      "|  11|          6|    6|11.595289668632256| 5.569441922315732|\n",
      "|  13|          7|    2|13.319854986219752| 6.239189269254143|\n",
      "+----+-----------+-----+------------------+------------------+\n",
      "only showing top 20 rows\n",
      "\n",
      "+-----------------+------------------+\n",
      "|distance_category| avg_speed_by_dist|\n",
      "+-----------------+------------------+\n",
      "|      Long (>5km)| 22.46737952979777|\n",
      "|     Short (<2km)|11.450601056430267|\n",
      "|   Medium (2-5km)|14.342252633488364|\n",
      "+-----------------+------------------+\n",
      "\n",
      "File uploaded successfully\n",
      "24/05/22 20:38:07 INFO org.sparkproject.jetty.server.AbstractConnector: Stopped Spark@764fe8e9{HTTP/1.1, (http/1.1)}{0.0.0.0:0}\n",
      "24/05/22 20:38:08 INFO com.google.cloud.hadoop.fs.gcs.GhfsStorageStatistics: Detected potential high latency for operation op_rename. latencyMs=406; previousMaxLatencyMs=0; operationCount=1; context=rename(gs://dataproc-temp-europe-west9-842263258747-ucxdsplb/adf399ba-2000-4c45-9ecd-d31c654ad9a4/spark-job-history/application_1716409878004_0001.inprogress -> gs://dataproc-temp-europe-west9-842263258747-ucxdsplb/adf399ba-2000-4c45-9ecd-d31c654ad9a4/spark-job-history/application_1716409878004_0001)\n",
      "Job [8395f1badd5e4f4dbae5cad95da9a51e] finished successfully.\n",
      "done: true\n",
      "driverControlFilesUri: gs://dataproc-staging-europe-west9-842263258747-telg9nke/google-cloud-dataproc-metainfo/adf399ba-2000-4c45-9ecd-d31c654ad9a4/jobs/8395f1badd5e4f4dbae5cad95da9a51e/\n",
      "driverOutputResourceUri: gs://dataproc-staging-europe-west9-842263258747-telg9nke/google-cloud-dataproc-metainfo/adf399ba-2000-4c45-9ecd-d31c654ad9a4/jobs/8395f1badd5e4f4dbae5cad95da9a51e/driveroutput\n",
      "jobUuid: 9006e107-d5e4-3187-a5f4-5006f9e2cc04\n",
      "placement:\n",
      "  clusterName: spbd-nyc-taxi-cluster\n",
      "  clusterUuid: adf399ba-2000-4c45-9ecd-d31c654ad9a4\n",
      "pysparkJob:\n",
      "  mainPythonFileUri: gs://spbd-nyc-taxi-bucket/scripts/traffic_analysis.py\n",
      "reference:\n",
      "  jobId: 8395f1badd5e4f4dbae5cad95da9a51e\n",
      "  projectId: epita-spbd-nyc-da\n",
      "status:\n",
      "  state: DONE\n",
      "  stateStartTime: '2024-05-22T20:38:09.526969Z'\n",
      "statusHistory:\n",
      "- state: PENDING\n",
      "  stateStartTime: '2024-05-22T20:37:14.241488Z'\n",
      "- state: SETUP_DONE\n",
      "  stateStartTime: '2024-05-22T20:37:14.274153Z'\n",
      "- details: Agent reported job success\n",
      "  state: RUNNING\n",
      "  stateStartTime: '2024-05-22T20:37:14.727519Z'\n",
      "yarnApplications:\n",
      "- name: Traffic Analysis\n",
      "  progress: 1.0\n",
      "  state: FINISHED\n",
      "  trackingUrl: http://spbd-nyc-taxi-cluster-m:8088/proxy/application_1716409878004_0001/\n"
     ]
    }
   ],
   "source": [
    "!gcloud dataproc jobs submit pyspark \\\n",
    "    gs://spbd-nyc-taxi-bucket/scripts/traffic_analysis.py \\\n",
    "    --cluster={cluster_name} \\\n",
    "    --region={region}"
   ]
  },
  {
   "cell_type": "markdown",
   "metadata": {},
   "source": [
    "### Monitor the Job Execution"
   ]
  },
  {
   "cell_type": "code",
   "execution_count": 34,
   "metadata": {},
   "outputs": [
    {
     "name": "stdout",
     "output_type": "stream",
     "text": [
      "JOB_ID                            TYPE     STATUS\n",
      "8395f1badd5e4f4dbae5cad95da9a51e  pyspark  DONE\n"
     ]
    }
   ],
   "source": [
    "!gcloud dataproc jobs list --cluster=spbd-nyc-taxi-cluster --region=europe-west9"
   ]
  },
  {
   "cell_type": "markdown",
   "metadata": {},
   "source": [
    "### Accessing Logs and Debugging"
   ]
  },
  {
   "cell_type": "code",
   "execution_count": 35,
   "metadata": {},
   "outputs": [
    {
     "name": "stdout",
     "output_type": "stream",
     "text": [
      "\n",
      "\n",
      "\n",
      "\n",
      "\n",
      "\n",
      "\n",
      "\n",
      "\n",
      "\n",
      "\n",
      "\n",
      "\n",
      "\n",
      "\n",
      "\n",
      "\n",
      "\n",
      "\n",
      "\n",
      "\n",
      "\n",
      "\n",
      "\n",
      "\n",
      "\n",
      "\n",
      "\n",
      "\n",
      "\n"
     ]
    }
   ],
   "source": [
    "!gcloud logging read \"resource.type=cloud_dataproc_cluster AND resource.labels.cluster_name=spbd-nyc-taxi-cluster\" --limit 30 --format \"value(textPayload)\""
   ]
  },
  {
   "cell_type": "markdown",
   "metadata": {},
   "source": [
    "### (Optional) Delete a cluster"
   ]
  },
  {
   "cell_type": "code",
   "execution_count": 36,
   "metadata": {},
   "outputs": [
    {
     "name": "stdout",
     "output_type": "stream",
     "text": [
      "Waiting on operation [projects/epita-spbd-nyc-da/regions/europe-west9/operations/8aa404b4-2131-30e5-9cee-cd4bf9f3454a].\n",
      "Waiting for cluster deletion operation...done.                                 \n",
      "Deleted [https://dataproc.googleapis.com/v1/projects/epita-spbd-nyc-da/regions/europe-west9/clusters/spbd-nyc-taxi-cluster].\n"
     ]
    }
   ],
   "source": [
    "!gcloud dataproc clusters delete spbd-nyc-taxi-cluster --region=europe-west9 --quiet"
   ]
  },
  {
   "cell_type": "code",
   "execution_count": null,
   "metadata": {},
   "outputs": [],
   "source": [
    "\n"
   ]
  }
 ],
 "metadata": {
  "kernelspec": {
   "display_name": "data_analysis_spark",
   "language": "python",
   "name": "python3"
  },
  "language_info": {
   "codemirror_mode": {
    "name": "ipython",
    "version": 3
   },
   "file_extension": ".py",
   "mimetype": "text/x-python",
   "name": "python",
   "nbconvert_exporter": "python",
   "pygments_lexer": "ipython3",
   "version": "3.12.3"
  }
 },
 "nbformat": 4,
 "nbformat_minor": 2
}
